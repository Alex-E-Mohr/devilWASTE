{
 "cells": [
  {
   "cell_type": "markdown",
   "id": "acquired-gentleman",
   "metadata": {},
   "source": [
    "# devilWASTE 2023"
   ]
  },
  {
   "cell_type": "markdown",
   "id": "direct-cylinder",
   "metadata": {},
   "source": [
    "#### Sequncing file issue\n",
    "This data set has three total sequencing runs. Many samples are present across the multiple sequence runs due to low-quality reads.\n",
    "\n",
    "Based on several qiime2forum threads, the most prudent solution is below:\n",
    "- https://forum.qiime2.org/t/samples-run-on-more-than-one-sequencing-run/20391 <- most recent thread\n",
    "\n",
    "However, previous suggestions have been made for simply retaining the high-read replicates:\n",
    "- https://forum.qiime2.org/t/merge-or-discard-sequences-from-duplicated-samples-across-multiple-runs/13643\n",
    "\n",
    "Solution is to run DADA2 separately on each sequencing run (done, due to potential for error modeling) and then merge the output files (both the feature tables and the feature data {i.e., representatative sequence file]). Important to denoise all three datasets with the SAME parameters separately and then merge outputs."
   ]
  },
  {
   "cell_type": "markdown",
   "id": "north-workplace",
   "metadata": {},
   "source": [
    "#### Merging the Feature Tables\n",
    "- Use the command: qiime feature-table merge\n",
    "- https://docs.qiime2.org/2022.11/plugins/available/feature-table/merge/\n",
    "- ***Important:*** On merging feature tables step, default option is to rise an error on duplicated samples. Providing \n",
    "    'sum' for --p-overlap-method will override this behavior and pool all features from duplicated samples in one, and summarize all identical features in that sample. So at the end you will have more reads than in each of the runs separately."
   ]
  },
  {
   "cell_type": "raw",
   "id": "aggregate-hunger",
   "metadata": {},
   "source": [
    "Usage: qiime feature-table merge [OPTIONS]\n",
    "\n",
    "  Combines feature tables using the `overlap_method` provided.\n",
    "\n",
    "Inputs:\n",
    "  --i-tables ARTIFACTS... List[FeatureTable[Frequency]¹ |\n",
    "    FeatureTable[RelativeFrequency]²]\n",
    "                       The collection of feature tables to be merged.\n",
    "                                                                    [required]\n",
    "Parameters:\n",
    "  --p-overlap-method VALUE Str % Choices('average',\n",
    "    'error_on_overlapping_feature', 'error_on_overlapping_sample', 'sum')¹ |\n",
    "    Str % Choices('average', 'error_on_overlapping_feature',\n",
    "    'error_on_overlapping_sample')²\n",
    "                       Method for handling overlapping ids.\n",
    "                                      [default: 'error_on_overlapping_sample']\n",
    "Outputs:\n",
    "  --o-merged-table ARTIFACT FeatureTable[Frequency]¹ |\n",
    "    FeatureTable[RelativeFrequency]²\n",
    "                       The resulting merged feature table.          [required]\n",
    "Miscellaneous:\n",
    "  --output-dir PATH    Output unspecified results to a directory\n",
    "  --verbose / --quiet  Display verbose output to stdout and/or stderr during\n",
    "                       execution of this action. Or silence output if\n",
    "                       execution is successful (silence is golden).\n",
    "  --example-data PATH  Write example data and exit.\n",
    "  --citations          Show citations and exit.\n",
    "  --help               Show this message and exit.\n",
    "\n",
    "Examples:\n",
    "  # ### example: feature table merge two tables\n",
    "  qiime feature-table merge \\\n",
    "    --i-tables feature-table1.qza feature-table2.qza \\\n",
    "    --o-merged-table merged-table.qza\n",
    "\n",
    "  # ### preffered method example: feature table merge three tables\n",
    "  qiime feature-table merge \\\n",
    "    --i-tables feature-table1.qza feature-table2.qza feature-table3.qza \\\n",
    "    --p-overlap-method sum \\\n",
    "    --o-merged-table merged-table.qza"
   ]
  },
  {
   "cell_type": "markdown",
   "id": "convenient-health",
   "metadata": {},
   "source": [
    "#### Merging the Feature Sequence Tables\n",
    "- Use the command: qiime feature-table merge-seqs\n",
    "- https://docs.qiime2.org/2022.11/plugins/available/feature-table/merge-seqs/"
   ]
  },
  {
   "cell_type": "raw",
   "id": "threatened-suite",
   "metadata": {},
   "source": [
    "Usage: qiime feature-table merge-seqs [OPTIONS]\n",
    "\n",
    "  Combines feature data objects which may or may not contain data for the same\n",
    "  features. If different feature data is present for the same feature id in\n",
    "  the inputs, the data from the first will be propagated to the result.\n",
    "\n",
    "Inputs:\n",
    "  --i-data ARTIFACTS... List[FeatureData[Sequence]]\n",
    "                         The collection of feature sequences to be merged.\n",
    "                                                                    [required]\n",
    "Outputs:\n",
    "  --o-merged-data ARTIFACT FeatureData[Sequence]\n",
    "                         The resulting collection of feature sequences\n",
    "                         containing all feature sequences provided. [required]\n",
    "Miscellaneous:\n",
    "  --output-dir PATH      Output unspecified results to a directory\n",
    "  --verbose / --quiet    Display verbose output to stdout and/or stderr\n",
    "                         during execution of this action. Or silence output if\n",
    "                         execution is successful (silence is golden).\n",
    "  --example-data PATH    Write example data and exit.\n",
    "  --citations            Show citations and exit.\n",
    "  --help                 Show this message and exit.\n",
    "\n",
    "Examples:\n",
    "  # ### example: feature table merge seqs\n",
    "  qiime feature-table merge-seqs \\\n",
    "    --i-data seqs1.qza seqs2.qza \\\n",
    "    --o-merged-data merged-data.qza"
   ]
  },
  {
   "cell_type": "markdown",
   "id": "hollywood-zambia",
   "metadata": {},
   "source": [
    "### Import data"
   ]
  },
  {
   "cell_type": "markdown",
   "id": "official-onion",
   "metadata": {},
   "source": [
    "Variant of the fastq manifest format: PairedEndFastqManifestPhred33V2"
   ]
  },
  {
   "cell_type": "markdown",
   "id": "viral-moisture",
   "metadata": {},
   "source": [
    "### Run 1"
   ]
  },
  {
   "cell_type": "code",
   "execution_count": null,
   "id": "suspended-blocking",
   "metadata": {},
   "outputs": [],
   "source": [
    "qiime tools import \\\n",
    "  --type \"SampleData[PairedEndSequencesWithQuality]\" \\\n",
    "  --input-format PairedEndFastqManifestPhred33V2 \\\n",
    "  --input-path ./manifest_run1.tsv \\\n",
    "  --output-path ./demux_seqs_run1.qza"
   ]
  },
  {
   "cell_type": "code",
   "execution_count": null,
   "id": "loaded-stack",
   "metadata": {},
   "outputs": [],
   "source": [
    "qiime demux summarize \\\n",
    "  --i-data ./demux_seqs_run1.qza \\\n",
    "  --o-visualization ./demux_seqs_run1.qzv"
   ]
  },
  {
   "cell_type": "markdown",
   "id": "dried-mayor",
   "metadata": {},
   "source": [
    "#### QC using DADA2"
   ]
  },
  {
   "cell_type": "code",
   "execution_count": null,
   "id": "united-swing",
   "metadata": {},
   "outputs": [],
   "source": [
    "qiime dada2 denoise-paired \\\n",
    "  --i-demultiplexed-seqs demux_seqs_run1.qza \\\n",
    "  --p-trim-left-f 20 \\\n",
    "  --p-trim-left-r 20 \\\n",
    "  --p-trunc-len-f 240 \\\n",
    "  --p-trunc-len-r 240 \\\n",
    "  --o-table table_run1.qza \\\n",
    "  --o-representative-sequences rep_seqs_run1.qza \\\n",
    "  --o-denoising-stats denoising_stats_run1.qza"
   ]
  },
  {
   "cell_type": "code",
   "execution_count": null,
   "id": "b5b746e1-e25c-481a-bd1e-944d84a82393",
   "metadata": {},
   "outputs": [],
   "source": [
    "qiime metadata tabulate \\\n",
    "  --m-input-file ./denoising_stats_run1.qza  \\\n",
    "  --o-visualization ./denoising_stats_run1.qzv"
   ]
  },
  {
   "cell_type": "markdown",
   "id": "allied-valley",
   "metadata": {},
   "source": [
    "### Run 2"
   ]
  },
  {
   "cell_type": "code",
   "execution_count": null,
   "id": "useful-freeware",
   "metadata": {},
   "outputs": [],
   "source": [
    "qiime tools import \\\n",
    "  --type \"SampleData[PairedEndSequencesWithQuality]\" \\\n",
    "  --input-format PairedEndFastqManifestPhred33V2 \\\n",
    "  --input-path ./manifest_run2.tsv \\\n",
    "  --output-path ./demux_seqs_run2.qza"
   ]
  },
  {
   "cell_type": "code",
   "execution_count": null,
   "id": "undefined-appreciation",
   "metadata": {},
   "outputs": [],
   "source": [
    "qiime demux summarize \\\n",
    "  --i-data ./demux_seqs_run2.qza \\\n",
    "  --o-visualization ./demux_seqs_run2.qzv"
   ]
  },
  {
   "cell_type": "markdown",
   "id": "operating-reserve",
   "metadata": {},
   "source": [
    "#### QC using DADA2"
   ]
  },
  {
   "cell_type": "code",
   "execution_count": null,
   "id": "critical-helicopter",
   "metadata": {},
   "outputs": [],
   "source": [
    "qiime dada2 denoise-paired \\\n",
    "  --i-demultiplexed-seqs demux_seqs_run2.qza \\\n",
    "  --p-trim-left-f 20 \\\n",
    "  --p-trim-left-r 20 \\\n",
    "  --p-trunc-len-f 240 \\\n",
    "  --p-trunc-len-r 240 \\\n",
    "  --o-table table_run2.qza \\\n",
    "  --o-representative-sequences rep_seqs_run2.qza \\\n",
    "  --o-denoising-stats denoising_stats_run2.qza"
   ]
  },
  {
   "cell_type": "code",
   "execution_count": null,
   "id": "69962734-6cfc-4b34-9f31-95799a890b29",
   "metadata": {},
   "outputs": [],
   "source": [
    "qiime metadata tabulate \\\n",
    "  --m-input-file ./denoising_stats_run2.qza  \\\n",
    "  --o-visualization ./denoising_stats_run2.qzv"
   ]
  },
  {
   "cell_type": "markdown",
   "id": "fluid-adaptation",
   "metadata": {},
   "source": [
    "### Run 3"
   ]
  },
  {
   "cell_type": "code",
   "execution_count": null,
   "id": "continent-crowd",
   "metadata": {},
   "outputs": [],
   "source": [
    "qiime tools import \\\n",
    "  --type \"SampleData[PairedEndSequencesWithQuality]\" \\\n",
    "  --input-format PairedEndFastqManifestPhred33V2 \\\n",
    "  --input-path ./manifest_run3.tsv \\\n",
    "  --output-path ./demux_seqs_run3.qza"
   ]
  },
  {
   "cell_type": "code",
   "execution_count": null,
   "id": "dressed-control",
   "metadata": {},
   "outputs": [],
   "source": [
    "qiime demux summarize \\\n",
    "  --i-data ./demux_seqs_run3.qza \\\n",
    "  --o-visualization ./demux_seqs_run3.qzv"
   ]
  },
  {
   "cell_type": "markdown",
   "id": "sporting-young",
   "metadata": {},
   "source": [
    "#### QC using DADA2"
   ]
  },
  {
   "cell_type": "code",
   "execution_count": null,
   "id": "private-shepherd",
   "metadata": {},
   "outputs": [],
   "source": [
    "qiime dada2 denoise-paired \\\n",
    "  --i-demultiplexed-seqs demux_seqs_run3.qza \\\n",
    "  --p-trim-left-f 20 \\\n",
    "  --p-trim-left-r 20 \\\n",
    "  --p-trunc-len-f 240 \\\n",
    "  --p-trunc-len-r 240 \\\n",
    "  --o-table table_run3.qza \\\n",
    "  --o-representative-sequences rep_seqs_run3.qza \\\n",
    "  --o-denoising-stats denoising_stats_run3.qza"
   ]
  },
  {
   "cell_type": "code",
   "execution_count": null,
   "id": "1390326b-c4b4-4f46-90de-31c0ff613f01",
   "metadata": {},
   "outputs": [],
   "source": [
    "qiime metadata tabulate \\\n",
    "  --m-input-file ./denoising_stats_run3.qza  \\\n",
    "  --o-visualization ./denoising_stats_run3.qzv"
   ]
  },
  {
   "cell_type": "markdown",
   "id": "ordered-balloon",
   "metadata": {},
   "source": [
    "## Merge Feature Tables"
   ]
  },
  {
   "cell_type": "code",
   "execution_count": null,
   "id": "manual-joshua",
   "metadata": {},
   "outputs": [],
   "source": [
    "qiime feature-table merge \\\n",
    "    --i-tables table_run1.qza table_run2.qza table_run3.qza \\\n",
    "    --p-overlap-method sum \\\n",
    "    --o-merged-table merged_table.qza"
   ]
  },
  {
   "cell_type": "markdown",
   "id": "brazilian-pizza",
   "metadata": {},
   "source": [
    "## Merge Representaive Sequences Tables"
   ]
  },
  {
   "cell_type": "code",
   "execution_count": null,
   "id": "continental-notebook",
   "metadata": {},
   "outputs": [],
   "source": [
    "qiime feature-table merge-seqs \\\n",
    "    --i-data rep_seqs_run1.qza rep_seqs_run2.qza rep_seqs_run3.qza \\\n",
    "    --o-merged-data merged_rep_seqs.qza"
   ]
  },
  {
   "cell_type": "code",
   "execution_count": null,
   "id": "juvenile-mongolia",
   "metadata": {},
   "outputs": [],
   "source": [
    "qiime feature-table summarize \\\n",
    "  --i-table merged_table.qza \\\n",
    "  --o-visualization merged_table.qzv \\\n",
    "\n",
    "qiime feature-table tabulate-seqs \\\n",
    "  --i-data merged_rep_seqs.qza \\\n",
    "  --o-visualization merged_rep_seqs.qzv"
   ]
  }
 ],
 "metadata": {
  "kernelspec": {
   "display_name": "Python 3",
   "language": "python",
   "name": "python3"
  },
  "language_info": {
   "codemirror_mode": {
    "name": "ipython",
    "version": 3
   },
   "file_extension": ".py",
   "mimetype": "text/x-python",
   "name": "python",
   "nbconvert_exporter": "python",
   "pygments_lexer": "ipython3",
   "version": "3.6.13"
  }
 },
 "nbformat": 4,
 "nbformat_minor": 5
}
